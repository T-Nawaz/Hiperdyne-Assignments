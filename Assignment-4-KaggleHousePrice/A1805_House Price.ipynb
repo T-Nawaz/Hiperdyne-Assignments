{
 "cells": [
  {
   "cell_type": "markdown",
   "metadata": {},
   "source": [
    "**ID: A1805**\n",
    "\n",
    "**Submission Date: February 10, 2019**"
   ]
  },
  {
   "cell_type": "markdown",
   "metadata": {},
   "source": [
    "# Kaggle House Price Assignment\n",
    "\n",
    "## Abstract\n",
    "\n",
    "The 'House Price' challange is one of the bignner level machine learning and data analytics competitions on Kaggle. The goal here is to predict the possible sale price of house in Ames,Iowa based on informations such as the size of the house, condition of it, how new it is, etc. Here I have firstly tried to explore the data provided to us to determine what it is that I am actually working with and then make the data usable for machine learning algorithms. This is a regression problem, as such I have tried a total of four algorithms for it -\n",
    "1. Linear Regression\n",
    "2. Support Vector Machine Regression(SVR)\n",
    "3. XGBoost\n",
    "4. Atrificial Neural Network"
   ]
  },
  {
   "cell_type": "code",
   "execution_count": null,
   "metadata": {
    "colab": {},
    "colab_type": "code",
    "id": "aRtkkDjuqnbC"
   },
   "outputs": [],
   "source": [
    "import pandas as pd\n",
    "import numpy as np\n",
    "import matplotlib\n",
    "import matplotlib.pyplot as plt\n",
    "import seaborn as sns\n",
    "\n",
    "from sklearn.model_selection import train_test_split\n",
    "from scipy.stats import skew\n",
    "from sklearn.linear_model import LinearRegression\n",
    "from sklearn.svm import SVR\n",
    "from xgboost import XGBRegressor\n",
    "import tensorflow as tf"
   ]
  },
  {
   "cell_type": "code",
   "execution_count": null,
   "metadata": {
    "colab": {},
    "colab_type": "code",
    "id": "6vnuIG0dqnbE"
   },
   "outputs": [],
   "source": [
    "train = pd.read_csv(\"train.csv\")\n",
    "test = pd.read_csv(\"test.csv\")"
   ]
  },
  {
   "cell_type": "markdown",
   "metadata": {
    "colab_type": "text",
    "id": "MxhA3vhMqnbG"
   },
   "source": [
    "# Data Overview"
   ]
  },
  {
   "cell_type": "code",
   "execution_count": 44,
   "metadata": {
    "colab": {
     "base_uri": "https://localhost:8080/",
     "height": 102
    },
    "colab_type": "code",
    "id": "oDI-sYBbqnbH",
    "outputId": "9ec85d1a-59f7-4e44-d1a8-bc070e6af396"
   },
   "outputs": [
    {
     "name": "stdout",
     "output_type": "stream",
     "text": [
      "Train Dataset:  1460\n",
      "Test Dataset:  1459\n",
      "Total attributes (Including Id and SalePrice):  81\n",
      "Quantitative attributes:  36\n",
      "Qualitative attributes:  43\n"
     ]
    }
   ],
   "source": [
    "print(\"Train Dataset: \", len(train))\n",
    "print(\"Test Dataset: \", len(test))\n",
    "print(\"Total attributes (Including Id and SalePrice): \" ,len(train.loc[2]))\n",
    "\n",
    "quantitative = [f for f in train.columns if train.dtypes[f] != 'object']\n",
    "quantitative.remove('SalePrice')\n",
    "quantitative.remove('Id')\n",
    "qualitative = [f for f in train.columns if train.dtypes[f] == 'object']\n",
    "\n",
    "print(\"Quantitative attributes: \",len(quantitative))\n",
    "print(\"Qualitative attributes: \", len(qualitative))"
   ]
  },
  {
   "cell_type": "markdown",
   "metadata": {
    "colab_type": "text",
    "id": "2H4gazyVqnbK"
   },
   "source": [
    "**concatenated both datasets to conduct data preprocessing\n",
    "Here I have excluded 'Id' and 'SalePrice' columns**"
   ]
  },
  {
   "cell_type": "code",
   "execution_count": null,
   "metadata": {
    "colab": {},
    "colab_type": "code",
    "id": "DScrEm8eqnbL"
   },
   "outputs": [],
   "source": [
    "all_data = pd.concat((train.loc[:,'MSSubClass':'SaleCondition'],\n",
    "                      test.loc[:,'MSSubClass':'SaleCondition']))"
   ]
  },
  {
   "cell_type": "markdown",
   "metadata": {
    "colab_type": "text",
    "id": "_3dn0dxyqnbN"
   },
   "source": [
    "# Data preprocessing\n",
    "\n",
    "Below are the steps I have taken to preprocess the data.\n",
    "\n",
    "    First I'll remove columns with high percentage of missing values(NaN).\n",
    "    \n",
    "    Next I'll replace the remaining numerical missing values with the mean of their respective columns\n",
    "    \n",
    "    Then I'll transform the skewed numeric features by taking log(feature + 1) - this will make the features more normalized\n",
    "    \n",
    "    Lastly, I'll one hot encode the categorical data"
   ]
  },
  {
   "cell_type": "markdown",
   "metadata": {
    "colab_type": "text",
    "id": "roRDb3yiqnbO"
   },
   "source": [
    "**Visualizing how much missing data there is**\n",
    "\n",
    "---\n",
    "\n",
    "Here the calculation is done only using train data and the preprocessing in done on the concatenated dataset"
   ]
  },
  {
   "cell_type": "code",
   "execution_count": 46,
   "metadata": {
    "colab": {
     "base_uri": "https://localhost:8080/",
     "height": 446
    },
    "colab_type": "code",
    "id": "Q1u4jbNHqnbP",
    "outputId": "e09f2534-3b5e-4120-da7c-7ad2f063a2c6"
   },
   "outputs": [
    {
     "data": {
      "text/plain": [
       "<matplotlib.axes._subplots.AxesSubplot at 0x7f19369f68d0>"
      ]
     },
     "execution_count": 46,
     "metadata": {
      "tags": []
     },
     "output_type": "execute_result"
    },
    {
     "data": {
      "image/png": "[encoded data removed]",
      "text/plain": [
       "<Figure size 864x432 with 1 Axes>"
      ]
     },
     "metadata": {
      "tags": []
     },
     "output_type": "display_data"
    }
   ],
   "source": [
    "missing = train.isnull().sum().sort_values(ascending=False)\n",
    "percent = (train.isnull().sum()*100/train.isnull().count()).sort_values(ascending=False)\n",
    "missing = missing[missing > 0]\n",
    "percent = percent[percent > 0]\n",
    "missing_data = pd.concat([missing, percent], axis=1, keys=['Missing', 'Percent'])\n",
    "percent.plot.bar()"
   ]
  },
  {
   "cell_type": "code",
   "execution_count": 47,
   "metadata": {
    "colab": {
     "base_uri": "https://localhost:8080/",
     "height": 204
    },
    "colab_type": "code",
    "id": "5cH2JuWYQAUV",
    "outputId": "e284804f-1c77-4fb5-c709-659094fd6a1e"
   },
   "outputs": [
    {
     "data": {
      "text/html": [
       "<div>\n",
       "<style scoped>\n",
       "    .dataframe tbody tr th:only-of-type {\n",
       "        vertical-align: middle;\n",
       "    }\n",
       "\n",
       "    .dataframe tbody tr th {\n",
       "        vertical-align: top;\n",
       "    }\n",
       "\n",
       "    .dataframe thead th {\n",
       "        text-align: right;\n",
       "    }\n",
       "</style>\n",
       "<table border=\"1\" class=\"dataframe\">\n",
       "  <thead>\n",
       "    <tr style=\"text-align: right;\">\n",
       "      <th></th>\n",
       "      <th>Missing</th>\n",
       "      <th>Percent</th>\n",
       "    </tr>\n",
       "  </thead>\n",
       "  <tbody>\n",
       "    <tr>\n",
       "      <th>PoolQC</th>\n",
       "      <td>1453</td>\n",
       "      <td>99.520548</td>\n",
       "    </tr>\n",
       "    <tr>\n",
       "      <th>MiscFeature</th>\n",
       "      <td>1406</td>\n",
       "      <td>96.301370</td>\n",
       "    </tr>\n",
       "    <tr>\n",
       "      <th>Alley</th>\n",
       "      <td>1369</td>\n",
       "      <td>93.767123</td>\n",
       "    </tr>\n",
       "    <tr>\n",
       "      <th>Fence</th>\n",
       "      <td>1179</td>\n",
       "      <td>80.753425</td>\n",
       "    </tr>\n",
       "    <tr>\n",
       "      <th>FireplaceQu</th>\n",
       "      <td>690</td>\n",
       "      <td>47.260274</td>\n",
       "    </tr>\n",
       "  </tbody>\n",
       "</table>\n",
       "</div>"
      ],
      "text/plain": [
       "             Missing    Percent\n",
       "PoolQC          1453  99.520548\n",
       "MiscFeature     1406  96.301370\n",
       "Alley           1369  93.767123\n",
       "Fence           1179  80.753425\n",
       "FireplaceQu      690  47.260274"
      ]
     },
     "execution_count": 47,
     "metadata": {
      "tags": []
     },
     "output_type": "execute_result"
    }
   ],
   "source": [
    "missing_data.head()"
   ]
  },
  {
   "cell_type": "markdown",
   "metadata": {
    "colab_type": "text",
    "id": "OUJGkRm0qnbU"
   },
   "source": [
    "## Removing all the columns with more than 50% missing value\n",
    "\n",
    "From the graph above, we can see that 'PoolQC', 'MscFeature', 'Alley' and 'Fence' has more than 50% or rather more that 80% missing values. Even if we fill up the missing data for there features, they would be very much random in nature and won't help with creating a better model. As such I have decided to discard them al together."
   ]
  },
  {
   "cell_type": "code",
   "execution_count": null,
   "metadata": {
    "colab": {},
    "colab_type": "code",
    "id": "3ERicpuiqnbV"
   },
   "outputs": [],
   "source": [
    "all_data = all_data.drop((missing_data[missing_data['Percent'] > 50]).index,1)"
   ]
  },
  {
   "cell_type": "markdown",
   "metadata": {
    "colab_type": "text",
    "id": "EGte6YK2qnbX"
   },
   "source": [
    "## Comparing current state of SalePrice with log transformed/ normal distributed values\n",
    "\n",
    "Normal distibuted values are helpful for a better predictive model. The graph on the below right shows the of SalePrice as we have recieved from Kaggle. The graph on the left shows the distribution when SalePrice is log transformed. The code cell after the graph log transforms the SalePrice column"
   ]
  },
  {
   "cell_type": "code",
   "execution_count": 49,
   "metadata": {
    "colab": {
     "base_uri": "https://localhost:8080/",
     "height": 440
    },
    "colab_type": "code",
    "id": "B7ubHl4RqnbX",
    "outputId": "df91873d-071c-4089-a307-ab0c157ff89f"
   },
   "outputs": [
    {
     "data": {
      "text/plain": [
       "array([[<matplotlib.axes._subplots.AxesSubplot object at 0x7f1936a7ab00>,\n",
       "        <matplotlib.axes._subplots.AxesSubplot object at 0x7f193693a048>]],\n",
       "      dtype=object)"
      ]
     },
     "execution_count": 49,
     "metadata": {
      "tags": []
     },
     "output_type": "execute_result"
    },
    {
     "data": {
      "image/png": "[encoded data removed]",
      "text/plain": [
       "<Figure size 864x432 with 2 Axes>"
      ]
     },
     "metadata": {
      "tags": []
     },
     "output_type": "display_data"
    }
   ],
   "source": [
    "matplotlib.rcParams['figure.figsize'] = (12.0, 6.0)\n",
    "prices = pd.DataFrame({\"price\":train[\"SalePrice\"], \"log(price + 1)\":np.log1p(train[\"SalePrice\"])})\n",
    "prices.hist()"
   ]
  },
  {
   "cell_type": "markdown",
   "metadata": {
    "colab_type": "text",
    "id": "C6Tb6FXMarSL"
   },
   "source": [
    "## Log transform of SalePrice:\n",
    "    Here log1p Calculates log(1 + x), x being SalePrice."
   ]
  },
  {
   "cell_type": "code",
   "execution_count": null,
   "metadata": {
    "colab": {},
    "colab_type": "code",
    "id": "_jALoB_qqnbk"
   },
   "outputs": [],
   "source": [
    "train[\"SalePrice\"] = np.log1p(train[\"SalePrice\"])"
   ]
  },
  {
   "cell_type": "markdown",
   "metadata": {
    "colab_type": "text",
    "id": "c7nGz0kea71U"
   },
   "source": [
    "## Filling the remaining missing values with the mean of the column:\n",
    "\n",
    "Even after discarding 4 columns/attributes, there are still some missing values remaining. The following code fills up those missing values with the mean value of each particular column"
   ]
  },
  {
   "cell_type": "code",
   "execution_count": null,
   "metadata": {
    "colab": {},
    "colab_type": "code",
    "id": "thssERlAqnbp"
   },
   "outputs": [],
   "source": [
    "all_data = all_data.fillna(all_data.mean())"
   ]
  },
  {
   "cell_type": "markdown",
   "metadata": {
    "colab_type": "text",
    "id": "PBXsdyLHbJAe"
   },
   "source": [
    "## Log Transform of skewed numeric data:\n",
    "\n",
    "Here I have first calculated the skewness of the dataset. Then I have log transformed all the data with a skewness greater than 0.75."
   ]
  },
  {
   "cell_type": "code",
   "execution_count": null,
   "metadata": {
    "colab": {},
    "colab_type": "code",
    "id": "BCjogOyxqnbs"
   },
   "outputs": [],
   "source": [
    "numeric_features = all_data.dtypes[all_data.dtypes != \"object\"].index #selecting numeric features\n",
    "\n",
    "skewed_features = train[numeric_features].apply(lambda x: skew(x.dropna())) #computing skewness\n",
    "skewed_features = skewed_features[skewed_features > 0.75] #selecting features with skewness greater than 0.75\n",
    "skewed_features = skewed_features.index\n",
    "\n",
    "all_data[skewed_features] = np.log1p(all_data[skewed_features])"
   ]
  },
  {
   "cell_type": "markdown",
   "metadata": {
    "colab_type": "text",
    "id": "9zQshHTBqj29"
   },
   "source": [
    "## One hot encoding categorical data"
   ]
  },
  {
   "cell_type": "code",
   "execution_count": null,
   "metadata": {
    "colab": {},
    "colab_type": "code",
    "id": "CwJPQD64qnby"
   },
   "outputs": [],
   "source": [
    "all_data = pd.get_dummies(all_data)"
   ]
  },
  {
   "cell_type": "markdown",
   "metadata": {
    "colab_type": "text",
    "id": "KA8HFPUrquLm"
   },
   "source": [
    "## Create the matrices to fit models"
   ]
  },
  {
   "cell_type": "code",
   "execution_count": null,
   "metadata": {
    "colab": {},
    "colab_type": "code",
    "id": "-xK--dSnqnb3"
   },
   "outputs": [],
   "source": [
    "X_all = all_data[:train.shape[0]]\n",
    "X_test = all_data[train.shape[0]:]\n",
    "y_all = train.SalePrice\n",
    "\n",
    "X_y_all = X_all.assign(SalePrice=np.expm1(y_all.values))"
   ]
  },
  {
   "cell_type": "markdown",
   "metadata": {
    "colab_type": "text",
    "id": "XBLMExCJqzF8"
   },
   "source": [
    "## Splitting the dataset into train and validation sets"
   ]
  },
  {
   "cell_type": "code",
   "execution_count": null,
   "metadata": {
    "colab": {},
    "colab_type": "code",
    "id": "ReLCFqRXqG1y"
   },
   "outputs": [],
   "source": [
    "X_train, X_val , y_train, y_val = train_test_split(X_all, y_all, test_size=0.3, random_state=50)"
   ]
  },
  {
   "cell_type": "markdown",
   "metadata": {
    "colab_type": "text",
    "id": "dnZVA9KXdryV"
   },
   "source": [
    "# Predictive Models\n",
    "I have worked with 4 predictive models here,\n",
    "\n",
    "1.   Linear Regression\n",
    "2.   Support Vector Machine(SVM)\n",
    "3.   XGBoost\n",
    "4.   Artificial Neural Network"
   ]
  },
  {
   "cell_type": "markdown",
   "metadata": {
    "colab_type": "text",
    "id": "_eiWrepIqnb5"
   },
   "source": [
    "## Linear Regression"
   ]
  },
  {
   "cell_type": "code",
   "execution_count": null,
   "metadata": {
    "colab": {
     "base_uri": "https://localhost:8080/",
     "height": 51
    },
    "colab_type": "code",
    "id": "r75PuN_Bq6CU",
    "outputId": "2768afd0-808a-41f6-cf29-b2765449532d"
   },
   "outputs": [
    {
     "name": "stdout",
     "output_type": "stream",
     "text": [
      "Linear Regression Train Score:  0.9542940278597263\n",
      "Linear Regression Validation Score:  0.8771450857143969\n"
     ]
    }
   ],
   "source": [
    "linear_clf = LinearRegression()\n",
    "linear_clf.fit(X_train, y_train)\n",
    "\n",
    "print(\"Linear Regression Train Score: \", linear_clf.score(X_train,y_train))\n",
    "print(\"Linear Regression Validation Score: \", linear_clf.score(X_val,y_val))"
   ]
  },
  {
   "cell_type": "code",
   "execution_count": null,
   "metadata": {
    "colab": {
     "base_uri": "https://localhost:8080/",
     "height": 391
    },
    "colab_type": "code",
    "id": "eXNMizID5eMb",
    "outputId": "65c4ec43-0a6c-4e2f-ba50-c906b19fb1ac"
   },
   "outputs": [
    {
     "data": {
      "text/plain": [
       "<matplotlib.collections.PathCollection at 0x7f197c47e0f0>"
      ]
     },
     "execution_count": 16,
     "metadata": {
      "tags": []
     },
     "output_type": "execute_result"
    },
    {
     "data": {
      "image/png": "[encoded data removed]",
      "text/plain": [
       "<Figure size 864x432 with 1 Axes>"
      ]
     },
     "metadata": {
      "tags": []
     },
     "output_type": "display_data"
    }
   ],
   "source": [
    "pred_l = linear_clf.predict(X_val)\n",
    "plt.scatter(range(len(pred_l)),np.expm1(pred_l))\n",
    "plt.scatter(range(len(y_val)), np.expm1(y_val))"
   ]
  },
  {
   "cell_type": "markdown",
   "metadata": {
    "colab_type": "text",
    "id": "EX2jb44VaEI-"
   },
   "source": [
    "**The graph above demonstrats what the model predicted vs the actual validation set results. We can see that the model is pretty accurate in it's prediction**"
   ]
  },
  {
   "cell_type": "code",
   "execution_count": null,
   "metadata": {
    "colab": {},
    "colab_type": "code",
    "id": "5OhmiShg0v1X"
   },
   "outputs": [],
   "source": [
    "# expm1 calculates exp(x) - 1 for all elements in the array.\n",
    "\n",
    "linear_clf.fit(X_all, y_all)\n",
    "linear_predictions = np.expm1(linear_clf.predict(X_test))\n",
    "\n",
    "solution = pd.DataFrame({\"Id\": test.Id, \"SalePrice\": linear_predictions})\n",
    "solution.to_csv(\"linear_sol_w_all.csv\", index = False)"
   ]
  },
  {
   "cell_type": "markdown",
   "metadata": {
    "colab_type": "text",
    "id": "XcyJbeSYqnb_"
   },
   "source": [
    "## Support Vector Machine"
   ]
  },
  {
   "cell_type": "code",
   "execution_count": null,
   "metadata": {
    "colab": {
     "base_uri": "https://localhost:8080/",
     "height": 51
    },
    "colab_type": "code",
    "id": "qLP2xkAuq9d0",
    "outputId": "cd84a628-745c-4132-d31e-aa059247a9f4"
   },
   "outputs": [
    {
     "name": "stdout",
     "output_type": "stream",
     "text": [
      "SVM Train Score:  0.9809502243348687\n",
      "SVM Validation Score:  0.5723518749961292\n"
     ]
    }
   ],
   "source": [
    "svm_clf = SVR(C=1.0,epsilon=0.01,gamma='auto')\n",
    "svm_clf.fit(X_train, y_train)\n",
    "\n",
    "print(\"SVM Train Score: \", svm_clf.score(X_train,y_train))\n",
    "print(\"SVM Validation Score: \", svm_clf.score(X_val,y_val))"
   ]
  },
  {
   "cell_type": "markdown",
   "metadata": {
    "colab_type": "text",
    "id": "aSUkyN8N0NhD"
   },
   "source": [
    "### SVM Hyper Parameter Tuning\n",
    "| Degree | epsilon | C | Train Score | Validation Score |\n",
    "| --- |---|---| ---|---|\n",
    "| default | default | default | 0.94 | 0.56 |\n",
    "| 2 | default | default | 0.94 | 0.56 |\n",
    "| 3 | default | default | 0.94 | 0.56 |\n",
    "| 4 | default | default | 0.94 | 0.56 |\n",
    "| 2 | 0.01 | default | 0.98 | 0.57 |\n",
    "| 3 | 0.01 | default | 0.98 | 0.57 |\n",
    "| 4 | 0.01 | default | 0.98 | 0.57 |\n",
    "| default | 0.001 | 0.9 | 0.97 | 0.57 |\n",
    "| default | 0.001 | 0.9 | 0.97 | 0.57 |\n",
    "| default | 0.001 | 0.9 | 0.97 | 0.57 |\n",
    "| default | 0.01 | 0.8 | 0.96 | 0.57 |\n",
    "| default | 0.01 | 0.8 | 0.96 | 0.57 |\n",
    "| default | 0.01 | 0.8 | 0.96 | 0.57 |\n",
    "| default | 0.01 | 1.1 | 0.98 | 0.57 |\n",
    "| default | 0.01 | 1.1 | 0.98 | 0.57 |\n",
    "\n",
    "### SVM Discussion\n",
    "\n",
    "Degree has no effect on result.\n",
    "\n",
    "Epsilon 0.001 din't perform better than 0.01. But 0.01 performed better that 0.1, the default value\n",
    "\n",
    "Reducing the Penalty parameter C results in a lower overall accuracy. Increasing it shows no improvement compared to default value of 1.0"
   ]
  },
  {
   "cell_type": "code",
   "execution_count": null,
   "metadata": {
    "colab": {},
    "colab_type": "code",
    "id": "_7HCqvuVx1-z"
   },
   "outputs": [],
   "source": [
    "# expm1 calculates exp(x) - 1 for all elements in the array.\n",
    "\n",
    "svm_clf.fit(X_all, y_all)\n",
    "svm_predictions = np.expm1(svm_clf.predict(X_test))\n",
    "\n",
    "solution = pd.DataFrame({\"Id\": test.Id, \"SalePrice\": svm_predictions})\n",
    "solution.to_csv(\"svm_sol_w_all.csv\", index = False)"
   ]
  },
  {
   "cell_type": "markdown",
   "metadata": {
    "colab_type": "text",
    "id": "NjU9-hB6sBTJ"
   },
   "source": [
    "## XGBoost"
   ]
  },
  {
   "cell_type": "code",
   "execution_count": null,
   "metadata": {
    "colab": {
     "base_uri": "https://localhost:8080/",
     "height": 51
    },
    "colab_type": "code",
    "id": "Cz-YVTakqncQ",
    "outputId": "ba46fc77-13d2-41ad-8b26-2674329c11e8"
   },
   "outputs": [
    {
     "name": "stdout",
     "output_type": "stream",
     "text": [
      "XGBoost Train Score:  0.9861147448934361\n",
      "XGBoost Validation Score:  0.8961473016983967\n"
     ]
    }
   ],
   "source": [
    "xgboost_clf = XGBRegressor(n_estimators=2000, max_depth=2, learning_rate=0.05)\n",
    "xgboost_clf.fit(X_train, y_train,verbose=False)\n",
    "\n",
    "print(\"XGBoost Train Score: \", xgboost_clf.score(X_train,y_train))\n",
    "print(\"XGBoost Validation Score: \", xgboost_clf.score(X_val,y_val))"
   ]
  },
  {
   "cell_type": "code",
   "execution_count": null,
   "metadata": {
    "colab": {},
    "colab_type": "code",
    "id": "lF2USiuGV0jM"
   },
   "outputs": [],
   "source": [
    "# expm1 calculates exp(x) - 1 for all elements in the array.\n",
    "\n",
    "xgboost_clf.fit(X_all, y_all,verbose=False)\n",
    "xgboost_predictions = np.expm1(xgboost_clf.predict(X_test))\n",
    "\n",
    "solution = pd.DataFrame({\"Id\": test.Id, \"SalePrice\": xgboost_predictions})\n",
    "solution.to_csv(\"xgb_sol.csv\", index = False)"
   ]
  },
  {
   "cell_type": "markdown",
   "metadata": {
    "colab_type": "text",
    "id": "V76x60Z28Rt6"
   },
   "source": [
    "### XGBoost Hyper Parameter Tuning\n",
    "| n_estimators | max_depth | learning_rate | Train Score | Validation Score |\n",
    "| --- | --- | --- | --- | --- |\n",
    "| 1000 | default | 0.01 | 0.97 | 0.86 |\n",
    "| 1000 | default | 0.03 | 0.98 | 0.86 |\n",
    "| 1000 | default | 0.05 | 0.99 |0.86 |\n",
    "| 1000 | default | 0.07 | 0.99 | 0.86 |\n",
    "| 1000 | 2 | 0.05 | 0.98 | 0.87 |\n",
    "| 1000 | 2 | 0.07 | 0.98 | 0.87 |\n",
    "| 800 | 2 | 0.05 | 0.98 | 0.87 |\n",
    "| 800 | 2 | 0.07 | 0.98 | 0.87 |\n",
    "| 800 | 2 | 0.05 | 0.99 | 0.87 |\n",
    "| 800 | 2 | 0.07 | 0.99 | 0.87 |\n",
    "| 2000 | 2 | 0.05 | 0.99 | 0.87 |\n",
    "| 2000 | 2 | 0.07 | 0.99 | 0.87 |\n",
    "\n",
    "### XGBoost Discussion\n",
    "\n",
    "| - | n_estimators | max_depth | learning_rate | Kaggle Submission Score |\n",
    "| --- | --- | --- | --- | --- |\n",
    "| Best Parameters |1000 | 2 | 0.05 | 0.13263 |\n",
    "\n",
    "The reason n_estimators=1000 is chosen the best parameter even though setting it to 2000 gives us a better train score is because the validation score remains unchanged. This gives hint that increasing n_estimator won't neccessarily give us a better submission score."
   ]
  },
  {
   "cell_type": "code",
   "execution_count": null,
   "metadata": {
    "colab": {
     "base_uri": "https://localhost:8080/",
     "height": 136
    },
    "colab_type": "code",
    "id": "3SM0E6rebAwt",
    "outputId": "8380ec58-c61b-471b-a682-b4743aa0d9cc"
   },
   "outputs": [
    {
     "data": {
      "image/jpeg": "[encoded data removed]",
      "text/plain": [
       "<IPython.core.display.Image object>"
      ]
     },
     "execution_count": 22,
     "metadata": {
      "tags": []
     },
     "output_type": "execute_result"
    }
   ],
   "source": [
    "from IPython.display import Image\n",
    "Image(\"xgb_sol_sc.jpg\")"
   ]
  },
  {
   "cell_type": "markdown",
   "metadata": {
    "colab_type": "text",
    "id": "YuMkAnsz16dp"
   },
   "source": [
    "## Artificial Neural Network"
   ]
  },
  {
   "cell_type": "code",
   "execution_count": null,
   "metadata": {
    "colab": {},
    "colab_type": "code",
    "id": "3NeAO9TYCL8-"
   },
   "outputs": [],
   "source": [
    "y_train = np.expm1(y_train)"
   ]
  },
  {
   "cell_type": "code",
   "execution_count": null,
   "metadata": {
    "colab": {},
    "colab_type": "code",
    "id": "PrzprGWVFbox"
   },
   "outputs": [],
   "source": [
    "# Network Information\n",
    "hidden_1 = 64\n",
    "hidden_2 = 32\n",
    "hidden_3 = 256\n",
    "input_dim = X_all.shape[1]  # Number of features\n",
    "output_dim = 1              # Because it is a regression problem\n",
    "\n",
    "X_tf = tf.placeholder(\"float\")\n",
    "y_tf = tf.placeholder(\"float\")"
   ]
  },
  {
   "cell_type": "markdown",
   "metadata": {
    "colab_type": "text",
    "id": "qOjjctcoY7dm"
   },
   "source": [
    "\n",
    "\n",
    "*   **tf.Variable() will create a variable of which value will be changing during optimization steps**\n",
    "*   **tf.random_normal() will generate random number of normal  distribution**\n",
    "\n",
    "\n"
   ]
  },
  {
   "cell_type": "code",
   "execution_count": null,
   "metadata": {
    "colab": {},
    "colab_type": "code",
    "id": "LmV0TJXvHCFm"
   },
   "outputs": [],
   "source": [
    "# Weights and Bias\n",
    "\n",
    "weights = {\n",
    "    'w1': tf.Variable(tf.random_normal([input_dim, hidden_1])),\n",
    "    'w2': tf.Variable(tf.random_normal([hidden_1, hidden_2])),\n",
    "    'w3': tf.Variable(tf.random_normal([hidden_2, hidden_3])),\n",
    "    'out': tf.Variable(tf.random_normal([hidden_2, output_dim]))\n",
    "}\n",
    "biases = {\n",
    "    'b1': tf.Variable(tf.random_normal([hidden_1])),\n",
    "    'b2': tf.Variable(tf.random_normal([hidden_2])),\n",
    "    'b3': tf.Variable(tf.random_normal([hidden_3])),\n",
    "    'out': tf.Variable(tf.random_normal([output_dim]))\n",
    "}"
   ]
  },
  {
   "cell_type": "code",
   "execution_count": 1,
   "metadata": {
    "colab": {},
    "colab_type": "code",
    "id": "sfsPf9BbIqra"
   },
   "outputs": [],
   "source": [
    "# Model Design\n",
    "\n",
    "def ann_model(X_val):\n",
    "  # Hidden layers\n",
    "  layer_1 = tf.add(tf.matmul(X_val, weights['w1']), biases['b1'])\n",
    "  layer_1 = tf.nn.relu(layer_1)\n",
    "  \n",
    "  layer_2 = tf.add(tf.matmul(layer_1, weights['w2']), biases['b2'])\n",
    "  layer_2 = tf.nn.relu(layer_2)\n",
    "  \n",
    "  layer_3 = tf.add(tf.matmul(layer_2, weights['w3']), biases['b3'])\n",
    "  layer_3 = tf.nn.relu(layer_3)\n",
    "  \n",
    "  # Output layer\n",
    "  layer_out = tf.add(tf.matmul(layer_3, weights['out']), biases['out'])\n",
    "  \n",
    "  return layer_out"
   ]
  },
  {
   "cell_type": "code",
   "execution_count": null,
   "metadata": {
    "colab": {},
    "colab_type": "code",
    "id": "LD66Cyh3WMRy"
   },
   "outputs": [],
   "source": [
    "# Parameters\n",
    "learning_rate = 0.001\n",
    "\n",
    "# Model Construct\n",
    "model = ann_model(X_tf)\n",
    "\n",
    "# Mean Squared Error cost function\n",
    "cost = tf.reduce_mean(tf.square(model - y_tf))\n",
    "\n",
    "# Adam optimizer will update weights and biases after each step\n",
    "optimizer = tf.train.AdadeltaOptimizer(learning_rate=learning_rate).minimize(cost)"
   ]
  },
  {
   "cell_type": "code",
   "execution_count": null,
   "metadata": {
    "colab": {},
    "colab_type": "code",
    "id": "lEEVS4-IDnnA"
   },
   "outputs": [],
   "source": [
    "with tf.Session() as sess:\n",
    "  sess.run(tf.global_variables_initializer())\n",
    "  for i in range(20000):\n",
    "    sess.run(optimizer, feed_dict={X_tf:X_train, y_tf:y_train})\n",
    "    if (i+1)%500 == 0:\n",
    "      print('Epoch:', i+1)\n",
    "    \n",
    "  pred = sess.run(model, feed_dict={X_tf: X_test})"
   ]
  },
  {
   "cell_type": "code",
   "execution_count": null,
   "metadata": {
    "colab": {},
    "colab_type": "code",
    "id": "K1wPgPapqGxB"
   },
   "outputs": [],
   "source": [
    "solution = pd.DataFrame({\"Id\": test.Id, \"SalePrice\": pred.ravel() })\n",
    "solution.to_csv(\"Tf_sol.csv\", index = False)"
   ]
  },
  {
   "cell_type": "markdown",
   "metadata": {
    "colab_type": "text",
    "id": "RcjmbZV_IcCi"
   },
   "source": [
    "### ANN Hyper Parameter Tuning\n",
    "\n",
    "| Weight and Bias | HIdden Layer Shapes | Activation Function | Optimizer | Learning Rate | Epochs | Kaggle RMSE\n",
    "| --- | --- | --- | --- | --- | --- | --- |\n",
    "| Random Normal | 32-16 | Relu | Adadelta | 0.01 | 20,000 | 0.42721 |\n",
    "| Random Normal | 64-32 | Relu | Adadelta | 0.01 | 2,000 | 0.74953 |\n",
    "| Random Normal | 64-32 | Relu | Adadelta | 0.01 | 9,000 | 0.42444 |\n",
    "| Random Normal | 64-32 | Relu | Adadelta | 0.01 | 20,000 | 0.42721 |\n",
    "| Random Normal | 256-128-128| Relu | Adam+L2Regularize(0.05)| 0.01 | 100 | 0.42282 |\n",
    "| Random Normal | 256-128-128| Relu | Adadelta+L2Regularize(0.05)| 0.01 | 2000 | 0.54770 |\n",
    "| Random Normal | 256-128-128| Relu | Adadelta+L2Regularize(0.05)| 0.01 | 5000 | 0.68175 |\n",
    "| Random Normal | 256-256 | Relu | Adam | 0.1 | 146,000 | 0.42837 |\n",
    "| Random Normal | 256-256-256 | Relu | Adam | 0.1 | 146,000 | 0.60645 |\n",
    "| Random Normal | 128-256-128 | Relu | Adam | 0.01 | 292,000 | 0.41890 |\n",
    "| Random Normal | 256-256-256 | Relu | Adadelta | 0.01 | 2,000 | 0.43420 |\n",
    "| Random Normal | 256-256-256 | Relu | Adadelta | 0.01 | 4,000 | 0.47207 |\n",
    "| Random Normal | 256-256-256 | Relu | Adadelta | 0.01 | 1,000 | 0.47228 |\n",
    "| Random Normal | 256-256-256 | Relu | Adadelta | 0.01 | 10,000 | 0.44661 |\n",
    "| Random Normal | 256-512-256 | Relu | Adadelta | 0.01 | 2,000 | 0.52053 |\n",
    "| Random Normal | 256-512-256 | Relu | Adadelta | 0.01 | 10,000 | 0.48784 |\n",
    "\n",
    "### ANN Discussion\n",
    "From the results above, we can see that the artificial neural network, which is producing a polynomial prediction model performs worse than the linear prediction model or the decision tree based prediction model. This is beacuse the house price prediction problem leans more towards being a linear problem in nature. So when we try to fit a polynomial model, it under performs."
   ]
  },
  {
   "cell_type": "markdown",
   "metadata": {
    "colab_type": "text",
    "id": "Fw8uaIL3gi0j"
   },
   "source": [
    "# Acknowledgement\n",
    "\n",
    "\n",
    "\n",
    "\n",
    "\n",
    "\n",
    "1. Handling Missing Values\n",
    "\n",
    "> https://www.kaggle.com/dansbecker/handling-missing-values\n",
    "\n",
    "2.   One hot encoding\n",
    "\n",
    ">https://stackoverflow.com/questions/47460387/how-do-i-resolve-one-hot-encoding-if-my-test-data-has-missing-values-in-a-col\n",
    "\n",
    "3. Comprehensive data exploration with Python\n",
    "\n",
    ">https://www.kaggle.com/pmarcelino/comprehensive-data-exploration-with-python\n",
    "\n",
    "4. Regularized Linear Models\n",
    "\n",
    "> https://www.kaggle.com/apapiu/regularized-linear-models/notebook\n",
    "\n",
    "5. House Prices EDA\n",
    "\n",
    "> https://www.kaggle.com/dgawlik/house-prices-eda\n",
    "\n",
    "6. House prices: Lasso, XGBoost, and a detailed EDA\n",
    "\n",
    "> https://www.kaggle.com/erikbruin/house-prices-lasso-xgboost-and-a-detailed-eda/report\n",
    "\n"
   ]
  }
 ],
 "metadata": {
  "accelerator": "GPU",
  "colab": {
   "collapsed_sections": [],
   "name": "Kaggle House PriceFinal.ipynb",
   "provenance": [],
   "toc_visible": true,
   "version": "0.3.2"
  },
  "kernelspec": {
   "display_name": "Python 3",
   "language": "python",
   "name": "python3"
  },
  "language_info": {
   "codemirror_mode": {
    "name": "ipython",
    "version": 3
   },
   "file_extension": ".py",
   "mimetype": "text/x-python",
   "name": "python",
   "nbconvert_exporter": "python",
   "pygments_lexer": "ipython3",
   "version": "3.7.0"
  }
 },
 "nbformat": 4,
 "nbformat_minor": 2
}
